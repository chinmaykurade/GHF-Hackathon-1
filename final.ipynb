{
 "cells": [
  {
   "cell_type": "markdown",
   "id": "egyptian-prescription",
   "metadata": {},
   "source": [
    "### Importing Required Libraries"
   ]
  },
  {
   "cell_type": "code",
   "execution_count": 37,
   "id": "proprietary-commonwealth",
   "metadata": {},
   "outputs": [],
   "source": [
    "import numpy as np\n",
    "import pandas as pd\n",
    "import matplotlib.pyplot as plt\n",
    "\n",
    "from xgboost import XGBClassifier\n",
    "from sklearn.ensemble import RandomForestClassifier,ExtraTreesClassifier\n",
    "from sklearn.linear_model import LogisticRegression\n",
    "\n",
    "from sklearn.preprocessing import PolynomialFeatures\n",
    "from sklearn.preprocessing import StandardScaler\n",
    "\n",
    "from sklearn.model_selection import train_test_split\n",
    "from sklearn.model_selection import ShuffleSplit\n",
    "\n",
    "from sklearn.feature_selection import RFE, RFECV\n",
    "import seaborn as sns\n",
    "\n",
    "sns.set()\n",
    "import pickle\n",
    "\n",
    "from imblearn.under_sampling import InstanceHardnessThreshold,RandomUnderSampler,\\\n",
    "TomekLinks\n",
    "from imblearn.combine import SMOTETomek\n",
    "from imblearn.pipeline import make_pipeline\n",
    "from imblearn.metrics import classification_report_imbalanced\n",
    "\n",
    "# Preprocessing and helper functions\n",
    "from utils import *"
   ]
  },
  {
   "cell_type": "markdown",
   "id": "standard-climb",
   "metadata": {},
   "source": [
    "### Importing the data\n",
    "\n",
    "Preprocessing done (in utils.py file):\n",
    "1. Corrected some spelling/formatting mistakes in categorical features\n",
    "2. Target guided (mean) encoding for profession, city and state\n",
    "3. One-hot encoding for married and car_ownership\n",
    "4. Label encoding for house_ownership\n",
    "5. Binning for income, age, experience, current_house_years, current_job_years\n",
    "6. Algebraic combinations of numerical features"
   ]
  },
  {
   "cell_type": "code",
   "execution_count": 2,
   "id": "blond-trainer",
   "metadata": {},
   "outputs": [
    {
     "name": "stdout",
     "output_type": "stream",
     "text": [
      "(252000, 13) (28000, 12)\n"
     ]
    },
    {
     "name": "stderr",
     "output_type": "stream",
     "text": [
      "D:\\Miniconda\\envs\\bankd\\lib\\site-packages\\pandas\\core\\indexing.py:1597: SettingWithCopyWarning: \n",
      "A value is trying to be set on a copy of a slice from a DataFrame.\n",
      "Try using .loc[row_indexer,col_indexer] = value instead\n",
      "\n",
      "See the caveats in the documentation: https://pandas.pydata.org/pandas-docs/stable/user_guide/indexing.html#returning-a-view-versus-a-copy\n",
      "  self.obj[key] = value\n",
      "D:\\Miniconda\\envs\\bankd\\lib\\site-packages\\pandas\\core\\indexing.py:1676: SettingWithCopyWarning: \n",
      "A value is trying to be set on a copy of a slice from a DataFrame.\n",
      "Try using .loc[row_indexer,col_indexer] = value instead\n",
      "\n",
      "See the caveats in the documentation: https://pandas.pydata.org/pandas-docs/stable/user_guide/indexing.html#returning-a-view-versus-a-copy\n",
      "  self._setitem_single_column(ilocs[0], value, pi)\n"
     ]
    }
   ],
   "source": [
    "df_train, df_test = import_data()\n",
    "df_train, df_test = preprocess(df_train, df_test)\n",
    "Y_all = df_train['risk_flag']\n",
    "X_all = df_train.drop(['risk_flag'],axis=1)\n",
    "cols = X_all.columns.to_list()"
   ]
  },
  {
   "cell_type": "code",
   "execution_count": 26,
   "id": "geographic-transportation",
   "metadata": {},
   "outputs": [],
   "source": [
    "# X_all.columns"
   ]
  },
  {
   "cell_type": "code",
   "execution_count": 27,
   "id": "accomplished-majority",
   "metadata": {},
   "outputs": [],
   "source": [
    "# Hyperparameter tuning didn't improve the score, except criterion and class_weight,\n",
    "# default parameters were used\n",
    "\n",
    "clf = ExtraTreesClassifier(n_estimators=200, n_jobs=-1, verbose=1, \\\n",
    "                            criterion='entropy', class_weight={0:1,1:10})"
   ]
  },
  {
   "cell_type": "markdown",
   "id": "consolidated-party",
   "metadata": {},
   "source": [
    "### Selected columns for training based on feature importance values as well as roc_auc_score"
   ]
  },
  {
   "cell_type": "code",
   "execution_count": 28,
   "id": "innocent-hughes",
   "metadata": {},
   "outputs": [
    {
     "data": {
      "text/plain": [
       "((226800, 11), (226800,), (25200, 11), (25200,))"
      ]
     },
     "execution_count": 28,
     "metadata": {},
     "output_type": "execute_result"
    }
   ],
   "source": [
    "selected_cols = ['car_ownership_no',\n",
    "                 'house_ownership_norent noown','house_ownership_rented',\\\n",
    "                 'age_bnd', 'income', 'experience', \\\n",
    "                 'profession_OF', 'city_OF', 'state_OF',\\\n",
    "                 'current_house_years_bnd',\\\n",
    "                 'current_job_years_bnd']\n",
    "Xs_all = X_all[selected_cols]\n",
    "\n",
    "# Train test split\n",
    "X_train, X_test, Y_train, Y_test = train_test_split(Xs_all, \\\n",
    "                                Y_all,test_size=0.1,random_state=5,shuffle=True)\n",
    "X_train.shape, Y_train.shape, X_test.shape, Y_test.shape"
   ]
  },
  {
   "cell_type": "code",
   "execution_count": 29,
   "id": "stainless-german",
   "metadata": {},
   "outputs": [
    {
     "name": "stderr",
     "output_type": "stream",
     "text": [
      "[Parallel(n_jobs=-1)]: Using backend ThreadingBackend with 8 concurrent workers.\n",
      "[Parallel(n_jobs=-1)]: Done  34 tasks      | elapsed:    3.2s\n",
      "[Parallel(n_jobs=-1)]: Done 184 tasks      | elapsed:   15.9s\n",
      "[Parallel(n_jobs=-1)]: Done 200 out of 200 | elapsed:   17.1s finished\n",
      "[Parallel(n_jobs=8)]: Using backend ThreadingBackend with 8 concurrent workers.\n",
      "[Parallel(n_jobs=8)]: Done  34 tasks      | elapsed:    0.0s\n",
      "[Parallel(n_jobs=8)]: Done 184 tasks      | elapsed:    0.3s\n",
      "[Parallel(n_jobs=8)]: Done 200 out of 200 | elapsed:    0.3s finished\n",
      "[Parallel(n_jobs=8)]: Using backend ThreadingBackend with 8 concurrent workers.\n",
      "[Parallel(n_jobs=8)]: Done  34 tasks      | elapsed:    0.6s\n",
      "[Parallel(n_jobs=8)]: Done 184 tasks      | elapsed:    3.2s\n"
     ]
    },
    {
     "name": "stdout",
     "output_type": "stream",
     "text": [
      "Threshold = 0.5\n",
      "Default Training ROC AUC = 0.957561968927548\n",
      "Default Test ROC AUC = 0.8408256667521053\n",
      "[[20169  1945]\n",
      " [  711  2375]]\n",
      "\n"
     ]
    },
    {
     "name": "stderr",
     "output_type": "stream",
     "text": [
      "[Parallel(n_jobs=8)]: Done 200 out of 200 | elapsed:    3.5s finished\n"
     ]
    }
   ],
   "source": [
    "train(clf,[X_train, X_test, Y_train, Y_test])\n",
    "predict(clf,[X_train, X_test, Y_train, Y_test], thresholds=[0.5])"
   ]
  },
  {
   "cell_type": "markdown",
   "id": "respected-fight",
   "metadata": {},
   "source": [
    "I chose the thresholds by varying the random state for the train-test split, and choosing the threshold with maximum score on an average. However, we can use cross-validation for more reliable results."
   ]
  },
  {
   "cell_type": "code",
   "execution_count": 33,
   "id": "honest-equality",
   "metadata": {},
   "outputs": [
    {
     "name": "stderr",
     "output_type": "stream",
     "text": [
      "[Parallel(n_jobs=8)]: Using backend ThreadingBackend with 8 concurrent workers.\n",
      "[Parallel(n_jobs=8)]: Done  34 tasks      | elapsed:    0.0s\n",
      "[Parallel(n_jobs=8)]: Done 184 tasks      | elapsed:    0.2s\n",
      "[Parallel(n_jobs=8)]: Done 200 out of 200 | elapsed:    0.3s finished\n",
      "[Parallel(n_jobs=8)]: Using backend ThreadingBackend with 8 concurrent workers.\n",
      "[Parallel(n_jobs=8)]: Done  34 tasks      | elapsed:    0.5s\n",
      "[Parallel(n_jobs=8)]: Done 184 tasks      | elapsed:    3.1s\n",
      "[Parallel(n_jobs=8)]: Done 200 out of 200 | elapsed:    3.4s finished\n"
     ]
    },
    {
     "name": "stdout",
     "output_type": "stream",
     "text": [
      "Threshold = 0.0\n",
      "Default Training ROC AUC = 0.5\n",
      "Default Test ROC AUC = 0.5\n",
      "[[    0 22114]\n",
      " [    0  3086]]\n",
      "\n",
      "Threshold = 0.01\n",
      "Default Training ROC AUC = 0.957561968927548\n",
      "Default Test ROC AUC = 0.8919688884869313\n",
      "[[17336  4778]\n",
      " [    0  3086]]\n",
      "\n",
      "Threshold = 0.02\n",
      "Default Training ROC AUC = 0.957561968927548\n",
      "Default Test ROC AUC = 0.8919688884869313\n",
      "[[17336  4778]\n",
      " [    0  3086]]\n",
      "\n",
      "Threshold = 0.03\n",
      "Default Training ROC AUC = 0.957561968927548\n",
      "Default Test ROC AUC = 0.8919688884869313\n",
      "[[17336  4778]\n",
      " [    0  3086]]\n",
      "\n",
      "Threshold = 0.04\n",
      "Default Training ROC AUC = 0.957561968927548\n",
      "Default Test ROC AUC = 0.89208193904314\n",
      "[[17341  4773]\n",
      " [    0  3086]]\n",
      "\n",
      "Threshold = 0.05\n",
      "Default Training ROC AUC = 0.957561968927548\n",
      "Default Test ROC AUC = 0.8919651372306269\n",
      "[[17343  4771]\n",
      " [    1  3085]]\n",
      "\n",
      "Threshold = 0.06\n",
      "Default Training ROC AUC = 0.957561968927548\n",
      "Default Test ROC AUC = 0.891983996085564\n",
      "[[17351  4763]\n",
      " [    2  3084]]\n",
      "\n",
      "Threshold = 0.07\n",
      "Default Training ROC AUC = 0.957561968927548\n",
      "Default Test ROC AUC = 0.8917240310929913\n",
      "[[17361  4753]\n",
      " [    5  3081]]\n",
      "\n",
      "Threshold = 0.08\n",
      "Default Training ROC AUC = 0.957561968927548\n",
      "Default Test ROC AUC = 0.8920631827616174\n",
      "[[17376  4738]\n",
      " [    5  3081]]\n",
      "\n",
      "Threshold = 0.09\n",
      "Default Training ROC AUC = 0.957561968927548\n",
      "Default Test ROC AUC = 0.8919502347788235\n",
      "[[17414  4700]\n",
      " [   11  3075]]\n",
      "\n"
     ]
    }
   ],
   "source": [
    "thresholds = [0.02,0.03,0.04,0.05,0.06,0.07,0.1]\n",
    "thresholds = [i/100 for i in range(10)]\n",
    "predict(clf,[X_train, X_test, Y_train, Y_test], thresholds=thresholds)"
   ]
  },
  {
   "cell_type": "code",
   "execution_count": 36,
   "id": "arranged-poetry",
   "metadata": {},
   "outputs": [
    {
     "name": "stderr",
     "output_type": "stream",
     "text": [
      "[Parallel(n_jobs=8)]: Using backend ThreadingBackend with 8 concurrent workers.\n",
      "[Parallel(n_jobs=8)]: Done  34 tasks      | elapsed:    0.0s\n",
      "[Parallel(n_jobs=8)]: Done 184 tasks      | elapsed:    0.2s\n",
      "[Parallel(n_jobs=8)]: Done 200 out of 200 | elapsed:    0.3s finished\n"
     ]
    },
    {
     "data": {
      "text/plain": [
       "Text(0.5, 0, 'FPR')"
      ]
     },
     "execution_count": 36,
     "metadata": {},
     "output_type": "execute_result"
    },
    {
     "data": {
      "image/png": "[encoded data removed]",
      "text/plain": [
       "<Figure size 720x504 with 1 Axes>"
      ]
     },
     "metadata": {},
     "output_type": "display_data"
    }
   ],
   "source": [
    "fpr, tpr, thresholds = roc_curve(Y_test,clf.predict_proba(X_test)[:,1])\n",
    "plt.figure(figsize=(10,7))\n",
    "plt.plot(fpr[1:], tpr[1:])\n",
    "plt.plot(fpr[1:], thresholds[1:])\n",
    "plt.legend(['TPR','threshold'])\n",
    "plt.title(\"ROC curve\")\n",
    "plt.xlabel(\"FPR\")"
   ]
  },
  {
   "cell_type": "markdown",
   "id": "motivated-apartment",
   "metadata": {},
   "source": [
    "### Train on all data"
   ]
  },
  {
   "cell_type": "code",
   "execution_count": 8,
   "id": "offensive-helmet",
   "metadata": {},
   "outputs": [
    {
     "data": {
      "text/plain": [
       "ExtraTreesClassifier(class_weight={0: 1, 1: 10}, criterion='entropy',\n",
       "                     n_estimators=200, n_jobs=-1, verbose=1)"
      ]
     },
     "execution_count": 8,
     "metadata": {},
     "output_type": "execute_result"
    }
   ],
   "source": [
    "clf"
   ]
  },
  {
   "cell_type": "code",
   "execution_count": 9,
   "id": "upper-panel",
   "metadata": {},
   "outputs": [
    {
     "name": "stdout",
     "output_type": "stream",
     "text": [
      "(252000, 11)\n"
     ]
    }
   ],
   "source": [
    "print(Xs_all.shape)"
   ]
  },
  {
   "cell_type": "code",
   "execution_count": 18,
   "id": "restricted-target",
   "metadata": {},
   "outputs": [
    {
     "name": "stderr",
     "output_type": "stream",
     "text": [
      "[Parallel(n_jobs=-1)]: Using backend ThreadingBackend with 8 concurrent workers.\n",
      "[Parallel(n_jobs=-1)]: Done  34 tasks      | elapsed:    3.6s\n",
      "[Parallel(n_jobs=-1)]: Done 184 tasks      | elapsed:   18.3s\n",
      "[Parallel(n_jobs=-1)]: Done 434 tasks      | elapsed:   43.2s\n",
      "[Parallel(n_jobs=-1)]: Done 784 tasks      | elapsed:  1.3min\n",
      "[Parallel(n_jobs=-1)]: Done 1234 tasks      | elapsed:  2.0min\n",
      "[Parallel(n_jobs=-1)]: Done 1784 tasks      | elapsed:  2.9min\n",
      "[Parallel(n_jobs=-1)]: Done 2000 out of 2000 | elapsed:  3.3min finished\n"
     ]
    },
    {
     "data": {
      "text/plain": [
       "ExtraTreesClassifier(class_weight={0: 1, 1: 10}, criterion='entropy',\n",
       "                     n_estimators=2000, n_jobs=-1, verbose=1)"
      ]
     },
     "execution_count": 18,
     "metadata": {},
     "output_type": "execute_result"
    }
   ],
   "source": [
    "clf.n_estimators = 2000\n",
    "Xs_all = Xs_all[selected_cols]\n",
    "clf.fit(Xs_all, Y_all)"
   ]
  },
  {
   "cell_type": "markdown",
   "id": "still-carpet",
   "metadata": {},
   "source": [
    "### Make Predictions on Final Test Set"
   ]
  },
  {
   "cell_type": "code",
   "execution_count": 20,
   "id": "flush-sunset",
   "metadata": {},
   "outputs": [
    {
     "name": "stderr",
     "output_type": "stream",
     "text": [
      "[Parallel(n_jobs=8)]: Using backend ThreadingBackend with 8 concurrent workers.\n",
      "[Parallel(n_jobs=8)]: Done  34 tasks      | elapsed:    0.0s\n",
      "[Parallel(n_jobs=8)]: Done 184 tasks      | elapsed:    0.3s\n",
      "[Parallel(n_jobs=8)]: Done 434 tasks      | elapsed:    0.8s\n",
      "[Parallel(n_jobs=8)]: Done 784 tasks      | elapsed:    1.6s\n",
      "[Parallel(n_jobs=8)]: Done 1234 tasks      | elapsed:    2.6s\n",
      "[Parallel(n_jobs=8)]: Done 1784 tasks      | elapsed:    3.9s\n",
      "[Parallel(n_jobs=8)]: Done 2000 out of 2000 | elapsed:    4.5s finished\n"
     ]
    }
   ],
   "source": [
    "predictions = clf.predict_proba(df_test[selected_cols])[:,1]\n",
    "threshold = 0.03\n",
    "predictions[predictions>=threshold] = 1\n",
    "predictions[predictions<threshold] = 0"
   ]
  },
  {
   "cell_type": "code",
   "execution_count": 21,
   "id": "qualified-andorra",
   "metadata": {},
   "outputs": [
    {
     "data": {
      "text/plain": [
       "(28000,)"
      ]
     },
     "execution_count": 21,
     "metadata": {},
     "output_type": "execute_result"
    }
   ],
   "source": [
    "predictions.shape"
   ]
  },
  {
   "cell_type": "code",
   "execution_count": 24,
   "id": "polar-legend",
   "metadata": {},
   "outputs": [
    {
     "data": {
      "text/html": [
       "<div>\n",
       "<style scoped>\n",
       "    .dataframe tbody tr th:only-of-type {\n",
       "        vertical-align: middle;\n",
       "    }\n",
       "\n",
       "    .dataframe tbody tr th {\n",
       "        vertical-align: top;\n",
       "    }\n",
       "\n",
       "    .dataframe thead th {\n",
       "        text-align: right;\n",
       "    }\n",
       "</style>\n",
       "<table border=\"1\" class=\"dataframe\">\n",
       "  <thead>\n",
       "    <tr style=\"text-align: right;\">\n",
       "      <th></th>\n",
       "      <th>id</th>\n",
       "      <th>risk_flag</th>\n",
       "    </tr>\n",
       "  </thead>\n",
       "  <tbody>\n",
       "    <tr>\n",
       "      <th>0</th>\n",
       "      <td>1</td>\n",
       "      <td>0</td>\n",
       "    </tr>\n",
       "    <tr>\n",
       "      <th>1</th>\n",
       "      <td>2</td>\n",
       "      <td>0</td>\n",
       "    </tr>\n",
       "    <tr>\n",
       "      <th>2</th>\n",
       "      <td>3</td>\n",
       "      <td>0</td>\n",
       "    </tr>\n",
       "    <tr>\n",
       "      <th>3</th>\n",
       "      <td>4</td>\n",
       "      <td>1</td>\n",
       "    </tr>\n",
       "    <tr>\n",
       "      <th>4</th>\n",
       "      <td>5</td>\n",
       "      <td>0</td>\n",
       "    </tr>\n",
       "    <tr>\n",
       "      <th>...</th>\n",
       "      <td>...</td>\n",
       "      <td>...</td>\n",
       "    </tr>\n",
       "    <tr>\n",
       "      <th>27995</th>\n",
       "      <td>27996</td>\n",
       "      <td>0</td>\n",
       "    </tr>\n",
       "    <tr>\n",
       "      <th>27996</th>\n",
       "      <td>27997</td>\n",
       "      <td>0</td>\n",
       "    </tr>\n",
       "    <tr>\n",
       "      <th>27997</th>\n",
       "      <td>27998</td>\n",
       "      <td>0</td>\n",
       "    </tr>\n",
       "    <tr>\n",
       "      <th>27998</th>\n",
       "      <td>27999</td>\n",
       "      <td>1</td>\n",
       "    </tr>\n",
       "    <tr>\n",
       "      <th>27999</th>\n",
       "      <td>28000</td>\n",
       "      <td>1</td>\n",
       "    </tr>\n",
       "  </tbody>\n",
       "</table>\n",
       "<p>28000 rows × 2 columns</p>\n",
       "</div>"
      ],
      "text/plain": [
       "          id  risk_flag\n",
       "0          1          0\n",
       "1          2          0\n",
       "2          3          0\n",
       "3          4          1\n",
       "4          5          0\n",
       "...      ...        ...\n",
       "27995  27996          0\n",
       "27996  27997          0\n",
       "27997  27998          0\n",
       "27998  27999          1\n",
       "27999  28000          1\n",
       "\n",
       "[28000 rows x 2 columns]"
      ]
     },
     "execution_count": 24,
     "metadata": {},
     "output_type": "execute_result"
    }
   ],
   "source": [
    "df_predictions = pd.DataFrame(df_test['id'])\n",
    "df_predictions['risk_flag'] = predictions.astype(int)\n",
    "df_predictions"
   ]
  },
  {
   "cell_type": "code",
   "execution_count": 25,
   "id": "nuclear-undergraduate",
   "metadata": {},
   "outputs": [
    {
     "data": {
      "text/plain": [
       "0    19232\n",
       "1     8768\n",
       "Name: risk_flag, dtype: int64"
      ]
     },
     "execution_count": 25,
     "metadata": {},
     "output_type": "execute_result"
    }
   ],
   "source": [
    "df_predictions['risk_flag'].value_counts()"
   ]
  },
  {
   "cell_type": "code",
   "execution_count": 33,
   "id": "funny-fourth",
   "metadata": {},
   "outputs": [],
   "source": [
    "df_predictions.to_csv(\"D:/Code/Projects/Bank Default Hackathon/predictions_vl4.csv\",\\\n",
    "                     index=False)"
   ]
  },
  {
   "cell_type": "code",
   "execution_count": null,
   "id": "military-index",
   "metadata": {},
   "outputs": [],
   "source": []
  }
 ],
 "metadata": {
  "kernelspec": {
   "display_name": "python3.9.2-bankd",
   "language": "python",
   "name": "python3.9.2-bankd"
  },
  "language_info": {
   "codemirror_mode": {
    "name": "ipython",
    "version": 3
   },
   "file_extension": ".py",
   "mimetype": "text/x-python",
   "name": "python",
   "nbconvert_exporter": "python",
   "pygments_lexer": "ipython3",
   "version": "3.9.2"
  }
 },
 "nbformat": 4,
 "nbformat_minor": 5
}

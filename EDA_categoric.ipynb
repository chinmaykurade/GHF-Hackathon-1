{
 "cells": [
  {
   "cell_type": "markdown",
   "id": "egyptian-prescription",
   "metadata": {},
   "source": [
    "### Importing Required Libraries"
   ]
  },
  {
   "cell_type": "code",
   "execution_count": 39,
   "id": "proprietary-commonwealth",
   "metadata": {},
   "outputs": [],
   "source": [
    "import pandas as pd\n",
    "import matplotlib.pyplot as plt\n",
    "import seaborn as sns\n",
    "sns.set()\n",
    "import numpy as np\n",
    "import pickle\n",
    "import re"
   ]
  },
  {
   "cell_type": "markdown",
   "id": "standard-climb",
   "metadata": {},
   "source": [
    "### Importing the data"
   ]
  },
  {
   "cell_type": "code",
   "execution_count": 2,
   "id": "blond-trainer",
   "metadata": {},
   "outputs": [],
   "source": [
    "train_path = \"D:/Code/Projects/Bank Default Hackathon/Training Data.csv\"\n",
    "test_path = \"D:/Code/Projects/Bank Default Hackathon/Test Data.csv\"\n",
    "df_train = pd.read_csv(train_path)\n",
    "df_test = pd.read_csv(test_path)"
   ]
  },
  {
   "cell_type": "markdown",
   "id": "functional-compromise",
   "metadata": {},
   "source": [
    "### Missing values"
   ]
  },
  {
   "cell_type": "code",
   "execution_count": 3,
   "id": "cordless-township",
   "metadata": {},
   "outputs": [],
   "source": [
    "def print_missing(dataset, print_percent=True):\n",
    "    missing = dataset.isnull().mean()\n",
    "    missing = missing[missing>0]\n",
    "    \n",
    "    if len(missing)>0:\n",
    "        missing.sort_values(inplace=True,ascending=False)\n",
    "        missing.plot.bar()\n",
    "        plt.ylabel(\"Fraction missing values\")\n",
    "        plt.title(\"Missing values\")\n",
    "        if print_percent:\n",
    "            missing_features = missing.index.tolist()\n",
    "            print(\"Percent missing values: \")\n",
    "            for feature in missing_features:\n",
    "                print(feature,'  \\t:' ,np.round(dataset[feature].isnull().mean(),4), '%')\n",
    "    else:\n",
    "        print(\"No missing values!\")"
   ]
  },
  {
   "cell_type": "code",
   "execution_count": 4,
   "id": "remarkable-circus",
   "metadata": {},
   "outputs": [
    {
     "name": "stdout",
     "output_type": "stream",
     "text": [
      "No missing values!\n"
     ]
    }
   ],
   "source": [
    "print_missing(df_train)"
   ]
  },
  {
   "cell_type": "code",
   "execution_count": 5,
   "id": "biological-judge",
   "metadata": {},
   "outputs": [
    {
     "name": "stdout",
     "output_type": "stream",
     "text": [
      "No missing values!\n"
     ]
    }
   ],
   "source": [
    "print_missing(df_train)"
   ]
  },
  {
   "cell_type": "code",
   "execution_count": 6,
   "id": "french-partner",
   "metadata": {},
   "outputs": [
    {
     "name": "stdout",
     "output_type": "stream",
     "text": [
      "<class 'pandas.core.frame.DataFrame'>\n",
      "RangeIndex: 252000 entries, 0 to 251999\n",
      "Data columns (total 13 columns):\n",
      " #   Column               Non-Null Count   Dtype \n",
      "---  ------               --------------   ----- \n",
      " 0   Id                   252000 non-null  int64 \n",
      " 1   income               252000 non-null  int64 \n",
      " 2   age                  252000 non-null  int64 \n",
      " 3   experience           252000 non-null  int64 \n",
      " 4   married              252000 non-null  object\n",
      " 5   house_ownership      252000 non-null  object\n",
      " 6   car_ownership        252000 non-null  object\n",
      " 7   profession           252000 non-null  object\n",
      " 8   city                 252000 non-null  object\n",
      " 9   state                252000 non-null  object\n",
      " 10  current_job_years    252000 non-null  int64 \n",
      " 11  current_house_years  252000 non-null  int64 \n",
      " 12  risk_flag            252000 non-null  int64 \n",
      "dtypes: int64(7), object(6)\n",
      "memory usage: 25.0+ MB\n"
     ]
    }
   ],
   "source": [
    "df_train.info()"
   ]
  },
  {
   "cell_type": "code",
   "execution_count": null,
   "id": "acute-timing",
   "metadata": {},
   "outputs": [],
   "source": []
  },
  {
   "cell_type": "code",
   "execution_count": null,
   "id": "established-warehouse",
   "metadata": {},
   "outputs": [],
   "source": []
  },
  {
   "cell_type": "markdown",
   "id": "angry-concentrate",
   "metadata": {},
   "source": [
    "### Numerical, Year and Categorical features"
   ]
  },
  {
   "cell_type": "code",
   "execution_count": 7,
   "id": "raising-reflection",
   "metadata": {},
   "outputs": [],
   "source": [
    "def get_fnames_by_type(dataset):\n",
    "    # list of numerical variables\n",
    "    numerical_features = [feature for feature in dataset.columns if dataset[feature].dtypes != 'O']\n",
    "    print('Number of numerical variables: ', len(numerical_features))\n",
    "\n",
    "    year_features = [feature for feature in numerical_features if 'yr'\\\n",
    "                     in feature.lower() or 'year' in feature.lower()]\n",
    "    print(f\"Year features: {year_features}\")\n",
    "    \n",
    "    categorical_features = [feature for feature in dataset.columns if \\\n",
    "                           feature not in numerical_features]\n",
    "    print('Number of categorical variables: ', len(categorical_features))\n",
    "    \n",
    "    return numerical_features, year_features, categorical_features"
   ]
  },
  {
   "cell_type": "code",
   "execution_count": 8,
   "id": "broad-absence",
   "metadata": {},
   "outputs": [
    {
     "name": "stdout",
     "output_type": "stream",
     "text": [
      "Number of numerical variables:  7\n",
      "Year features: ['current_job_years', 'current_house_years']\n",
      "Number of categorical variables:  6\n"
     ]
    }
   ],
   "source": [
    "numerical_features, year_features, categorical_features = \\\n",
    "get_fnames_by_type(df_train)"
   ]
  },
  {
   "cell_type": "markdown",
   "id": "brave-bracelet",
   "metadata": {},
   "source": [
    "## Categorical Features"
   ]
  },
  {
   "cell_type": "code",
   "execution_count": 9,
   "id": "skilled-episode",
   "metadata": {},
   "outputs": [
    {
     "name": "stdout",
     "output_type": "stream",
     "text": [
      "['married', 'house_ownership', 'car_ownership', 'profession', 'city', 'state']\n"
     ]
    }
   ],
   "source": [
    "print(categorical_features)"
   ]
  },
  {
   "cell_type": "code",
   "execution_count": 10,
   "id": "ordinary-priority",
   "metadata": {},
   "outputs": [
    {
     "data": {
      "text/html": [
       "<div>\n",
       "<style scoped>\n",
       "    .dataframe tbody tr th:only-of-type {\n",
       "        vertical-align: middle;\n",
       "    }\n",
       "\n",
       "    .dataframe tbody tr th {\n",
       "        vertical-align: top;\n",
       "    }\n",
       "\n",
       "    .dataframe thead th {\n",
       "        text-align: right;\n",
       "    }\n",
       "</style>\n",
       "<table border=\"1\" class=\"dataframe\">\n",
       "  <thead>\n",
       "    <tr style=\"text-align: right;\">\n",
       "      <th></th>\n",
       "      <th>married</th>\n",
       "      <th>house_ownership</th>\n",
       "      <th>car_ownership</th>\n",
       "      <th>profession</th>\n",
       "      <th>city</th>\n",
       "      <th>state</th>\n",
       "    </tr>\n",
       "  </thead>\n",
       "  <tbody>\n",
       "    <tr>\n",
       "      <th>0</th>\n",
       "      <td>single</td>\n",
       "      <td>rented</td>\n",
       "      <td>no</td>\n",
       "      <td>Mechanical_engineer</td>\n",
       "      <td>Rewa</td>\n",
       "      <td>Madhya_Pradesh</td>\n",
       "    </tr>\n",
       "    <tr>\n",
       "      <th>1</th>\n",
       "      <td>single</td>\n",
       "      <td>rented</td>\n",
       "      <td>no</td>\n",
       "      <td>Software_Developer</td>\n",
       "      <td>Parbhani</td>\n",
       "      <td>Maharashtra</td>\n",
       "    </tr>\n",
       "    <tr>\n",
       "      <th>2</th>\n",
       "      <td>married</td>\n",
       "      <td>rented</td>\n",
       "      <td>no</td>\n",
       "      <td>Technical_writer</td>\n",
       "      <td>Alappuzha</td>\n",
       "      <td>Kerala</td>\n",
       "    </tr>\n",
       "    <tr>\n",
       "      <th>3</th>\n",
       "      <td>single</td>\n",
       "      <td>rented</td>\n",
       "      <td>yes</td>\n",
       "      <td>Software_Developer</td>\n",
       "      <td>Bhubaneswar</td>\n",
       "      <td>Odisha</td>\n",
       "    </tr>\n",
       "    <tr>\n",
       "      <th>4</th>\n",
       "      <td>single</td>\n",
       "      <td>rented</td>\n",
       "      <td>no</td>\n",
       "      <td>Civil_servant</td>\n",
       "      <td>Tiruchirappalli[10]</td>\n",
       "      <td>Tamil_Nadu</td>\n",
       "    </tr>\n",
       "  </tbody>\n",
       "</table>\n",
       "</div>"
      ],
      "text/plain": [
       "   married house_ownership car_ownership           profession  \\\n",
       "0   single          rented            no  Mechanical_engineer   \n",
       "1   single          rented            no   Software_Developer   \n",
       "2  married          rented            no     Technical_writer   \n",
       "3   single          rented           yes   Software_Developer   \n",
       "4   single          rented            no        Civil_servant   \n",
       "\n",
       "                  city           state  \n",
       "0                 Rewa  Madhya_Pradesh  \n",
       "1             Parbhani     Maharashtra  \n",
       "2            Alappuzha          Kerala  \n",
       "3          Bhubaneswar          Odisha  \n",
       "4  Tiruchirappalli[10]      Tamil_Nadu  "
      ]
     },
     "execution_count": 10,
     "metadata": {},
     "output_type": "execute_result"
    }
   ],
   "source": [
    "df_train[categorical_features].head()"
   ]
  },
  {
   "cell_type": "markdown",
   "id": "enormous-jordan",
   "metadata": {},
   "source": [
    "## Get number of categories"
   ]
  },
  {
   "cell_type": "code",
   "execution_count": 11,
   "id": "historic-spider",
   "metadata": {},
   "outputs": [],
   "source": [
    "def get_number_categories(dataset, categorical_features):\n",
    "    print(\"Number of categories per categorical feature: \")\n",
    "    for feature in categorical_features:\n",
    "        print(f\"{feature:20}: {len(dataset[feature].unique())}\")"
   ]
  },
  {
   "cell_type": "code",
   "execution_count": 40,
   "id": "maritime-carnival",
   "metadata": {},
   "outputs": [],
   "source": [
    "for col in categorical_features:\n",
    "    df_train[col] = df_train[col].apply(lambda x: re.sub(r'[^a-zA-Z]',' ',x).strip())\n",
    "    df_test[col] = df_test[col].apply(lambda x: re.sub(r'[^a-zA-Z]',' ',x).strip())"
   ]
  },
  {
   "cell_type": "code",
   "execution_count": 41,
   "id": "million-nightmare",
   "metadata": {},
   "outputs": [
    {
     "name": "stdout",
     "output_type": "stream",
     "text": [
      "Number of categories per categorical feature: \n",
      "married             : 2\n",
      "house_ownership     : 3\n",
      "car_ownership       : 2\n",
      "profession          : 51\n",
      "city                : 316\n",
      "state               : 28\n"
     ]
    }
   ],
   "source": [
    "get_number_categories(df_train, categorical_features)"
   ]
  },
  {
   "cell_type": "code",
   "execution_count": 42,
   "id": "convenient-wilderness",
   "metadata": {},
   "outputs": [
    {
     "name": "stdout",
     "output_type": "stream",
     "text": [
      "Number of categories per categorical feature: \n",
      "married             : 2\n",
      "house_ownership     : 3\n",
      "car_ownership       : 2\n",
      "profession          : 51\n",
      "city                : 316\n",
      "state               : 28\n"
     ]
    }
   ],
   "source": [
    "get_number_categories(df_test, categorical_features)"
   ]
  },
  {
   "cell_type": "code",
   "execution_count": null,
   "id": "general-timer",
   "metadata": {},
   "outputs": [],
   "source": []
  },
  {
   "cell_type": "code",
   "execution_count": 43,
   "id": "chief-blocking",
   "metadata": {},
   "outputs": [],
   "source": [
    "ptrain = set(df_train['profession'])"
   ]
  },
  {
   "cell_type": "code",
   "execution_count": 44,
   "id": "southern-composer",
   "metadata": {},
   "outputs": [],
   "source": [
    "ptest = set(df_test['profession'])"
   ]
  },
  {
   "cell_type": "code",
   "execution_count": 45,
   "id": "latin-rebate",
   "metadata": {},
   "outputs": [
    {
     "data": {
      "text/plain": [
       "set()"
      ]
     },
     "execution_count": 45,
     "metadata": {},
     "output_type": "execute_result"
    }
   ],
   "source": [
    "ptrain-ptest"
   ]
  },
  {
   "cell_type": "code",
   "execution_count": 46,
   "id": "medium-story",
   "metadata": {},
   "outputs": [
    {
     "data": {
      "text/plain": [
       "set()"
      ]
     },
     "execution_count": 46,
     "metadata": {},
     "output_type": "execute_result"
    }
   ],
   "source": [
    "ptest-ptrain"
   ]
  },
  {
   "cell_type": "code",
   "execution_count": null,
   "id": "accessible-procurement",
   "metadata": {},
   "outputs": [],
   "source": []
  },
  {
   "cell_type": "code",
   "execution_count": null,
   "id": "under-pricing",
   "metadata": {},
   "outputs": [],
   "source": []
  },
  {
   "cell_type": "code",
   "execution_count": null,
   "id": "common-jason",
   "metadata": {},
   "outputs": [],
   "source": []
  },
  {
   "cell_type": "code",
   "execution_count": 47,
   "id": "solar-shock",
   "metadata": {},
   "outputs": [
    {
     "data": {
      "text/plain": [
       "profession\n",
       "Technology specialist         0.081486\n",
       "Petroleum Engineer            0.085102\n",
       "Industrial Engineer           0.098667\n",
       "Economist                     0.099278\n",
       "Financial Analyst             0.103155\n",
       "Design Engineer               0.106999\n",
       "Web designer                  0.109135\n",
       "Designer                      0.109178\n",
       "Dentist                       0.109578\n",
       "Mechanical engineer           0.111558\n",
       "Chemical engineer             0.111623\n",
       "Politician                    0.112257\n",
       "Librarian                     0.112576\n",
       "Drafter                       0.112894\n",
       "Graphic Designer              0.115370\n",
       "Fashion Designer              0.115385\n",
       "Surgeon                       0.115465\n",
       "Statistician                  0.115570\n",
       "Civil servant                 0.115794\n",
       "Engineer                      0.118083\n",
       "Physician                     0.119188\n",
       "Comedian                      0.119604\n",
       "Magistrate                    0.120030\n",
       "Analyst                       0.121465\n",
       "Chef                          0.121467\n",
       "Psychologist                  0.121892\n",
       "Artist                        0.122609\n",
       "Flight attendant              0.123635\n",
       "Computer operator             0.124048\n",
       "Microbiologist                0.124360\n",
       "Consultant                    0.125208\n",
       "Biomedical Engineer           0.127560\n",
       "Technician                    0.128289\n",
       "Computer hardware engineer    0.128444\n",
       "Lawyer                        0.129514\n",
       "Secretary                     0.130409\n",
       "Architect                     0.131200\n",
       "Technical writer              0.134167\n",
       "Aviator                       0.134931\n",
       "Hotel Manager                 0.135380\n",
       "Air traffic controller        0.135391\n",
       "Firefighter                   0.135789\n",
       "Official                      0.135796\n",
       "Civil engineer                0.135832\n",
       "Geologist                     0.144264\n",
       "Scientist                     0.144321\n",
       "Software Developer            0.148427\n",
       "Surveyor                      0.151464\n",
       "Army officer                  0.152113\n",
       "Chartered Accountant          0.153572\n",
       "Police officer                0.164052\n",
       "Name: risk_flag, dtype: float64"
      ]
     },
     "execution_count": 47,
     "metadata": {},
     "output_type": "execute_result"
    }
   ],
   "source": [
    "profession = df_train.groupby('profession')['risk_flag'].mean().sort_values()\n",
    "\n",
    "with open('profession.pickle', 'wb') as f:\n",
    "    pickle.dump(dict(profession), f)\n",
    "    f.close()\n",
    "profession"
   ]
  },
  {
   "cell_type": "code",
   "execution_count": 48,
   "id": "elect-visitor",
   "metadata": {},
   "outputs": [
    {
     "data": {
      "text/plain": [
       "city\n",
       "Gandhinagar         0.026114\n",
       "Dehradun            0.026346\n",
       "Sultan Pur Majra    0.034091\n",
       "Bijapur             0.034965\n",
       "Bangalore           0.037139\n",
       "                      ...   \n",
       "Raiganj             0.239554\n",
       "Kochi               0.252862\n",
       "Bettiah             0.266958\n",
       "Gwalior             0.272727\n",
       "Bhubaneswar         0.326194\n",
       "Name: risk_flag, Length: 316, dtype: float64"
      ]
     },
     "execution_count": 48,
     "metadata": {},
     "output_type": "execute_result"
    }
   ],
   "source": [
    "city = df_train.groupby('city')['risk_flag'].mean().sort_values()\n",
    "\n",
    "with open('city.pickle', 'wb') as f:\n",
    "    pickle.dump(dict(city), f)\n",
    "    f.close()\n",
    "city"
   ]
  },
  {
   "cell_type": "code",
   "execution_count": 49,
   "id": "ceramic-director",
   "metadata": {},
   "outputs": [
    {
     "data": {
      "text/plain": [
       "state\n",
       "Sikkim               0.046053\n",
       "Uttarakhand          0.070971\n",
       "Punjab               0.090042\n",
       "Chandigarh           0.092988\n",
       "Karnataka            0.100295\n",
       "Tamil Nadu           0.103163\n",
       "Delhi                0.104554\n",
       "Mizoram              0.110718\n",
       "Maharashtra          0.113254\n",
       "Andhra Pradesh       0.116022\n",
       "Puducherry           0.116539\n",
       "Gujarat              0.117724\n",
       "Uttar Pradesh        0.118039\n",
       "Haryana              0.124208\n",
       "West Bengal          0.128135\n",
       "Telangana            0.130117\n",
       "Bihar                0.130586\n",
       "Assam                0.131691\n",
       "Himachal Pradesh     0.133253\n",
       "Chhattisgarh         0.133281\n",
       "Jharkhand            0.133296\n",
       "Rajasthan            0.140833\n",
       "Odisha               0.142550\n",
       "Madhya Pradesh       0.154369\n",
       "Jammu and Kashmir    0.158989\n",
       "Kerala               0.167097\n",
       "Tripura              0.168109\n",
       "Manipur              0.215548\n",
       "Name: risk_flag, dtype: float64"
      ]
     },
     "execution_count": 49,
     "metadata": {},
     "output_type": "execute_result"
    }
   ],
   "source": [
    "state = df_train.groupby('state')['risk_flag'].mean().sort_values()\n",
    "\n",
    "with open('state.pickle', 'wb') as f:\n",
    "    pickle.dump(dict(state), f)\n",
    "    f.close()\n",
    "state"
   ]
  },
  {
   "cell_type": "code",
   "execution_count": null,
   "id": "multiple-greeting",
   "metadata": {},
   "outputs": [],
   "source": []
  },
  {
   "cell_type": "markdown",
   "id": "useful-winner",
   "metadata": {},
   "source": [
    "### Find out the relationship between categorical variable and dependent feature risk_flag"
   ]
  },
  {
   "cell_type": "code",
   "execution_count": 13,
   "id": "earned-major",
   "metadata": {},
   "outputs": [],
   "source": [
    "def categorical_vs_target(dataset, categorical_features, target_feature):\n",
    "    for feature in categorical_features:\n",
    "        # Proceed if the unique classes are less than 20\n",
    "        if len(dataset[feature].unique())<20:\n",
    "            data=dataset.copy()\n",
    "            data.groupby(feature)[target_feature].mean().plot.bar()\n",
    "            plt.xlabel(feature)\n",
    "            plt.ylabel(target_feature)\n",
    "            plt.title(feature)\n",
    "            plt.show()"
   ]
  },
  {
   "cell_type": "code",
   "execution_count": 14,
   "id": "eligible-tactics",
   "metadata": {},
   "outputs": [
    {
     "data": {
      "image/png": "[encoded data removed]",
      "text/plain": [
       "<Figure size 432x288 with 1 Axes>"
      ]
     },
     "metadata": {},
     "output_type": "display_data"
    },
    {
     "data": {
      "image/png": "[encoded data removed]",
      "text/plain": [
       "<Figure size 432x288 with 1 Axes>"
      ]
     },
     "metadata": {},
     "output_type": "display_data"
    },
    {
     "data": {
      "image/png": "[encoded data removed]",
      "text/plain": [
       "<Figure size 432x288 with 1 Axes>"
      ]
     },
     "metadata": {},
     "output_type": "display_data"
    }
   ],
   "source": [
    "categorical_vs_target(df_train, categorical_features, 'risk_flag')"
   ]
  },
  {
   "cell_type": "code",
   "execution_count": null,
   "id": "visible-singles",
   "metadata": {},
   "outputs": [],
   "source": []
  },
  {
   "cell_type": "code",
   "execution_count": 15,
   "id": "jewish-female",
   "metadata": {},
   "outputs": [
    {
     "data": {
      "text/plain": [
       "Uttar_Pradesh        0.112698\n",
       "Maharashtra          0.101437\n",
       "Andhra_Pradesh       0.100385\n",
       "West_Bengal          0.093187\n",
       "Bihar                0.078492\n",
       "Tamil_Nadu           0.065623\n",
       "Madhya_Pradesh       0.056040\n",
       "Karnataka            0.047044\n",
       "Gujarat              0.045270\n",
       "Rajasthan            0.036405\n",
       "Jharkhand            0.035575\n",
       "Haryana              0.031310\n",
       "Telangana            0.029857\n",
       "Assam                0.028024\n",
       "Kerala               0.023036\n",
       "Delhi                0.021786\n",
       "Punjab               0.018730\n",
       "Odisha               0.018484\n",
       "Chhattisgarh         0.015214\n",
       "Uttarakhand          0.007437\n",
       "Jammu_and_Kashmir    0.007063\n",
       "Puducherry           0.005687\n",
       "Manipur              0.003369\n",
       "Mizoram              0.003369\n",
       "Himachal_Pradesh     0.003306\n",
       "Tripura              0.003210\n",
       "Uttar_Pradesh[5]     0.002948\n",
       "Chandigarh           0.002603\n",
       "Sikkim               0.002413\n",
       "Name: state, dtype: float64"
      ]
     },
     "execution_count": 15,
     "metadata": {},
     "output_type": "execute_result"
    }
   ],
   "source": [
    "df_train['state'].value_counts()/len(df_train)"
   ]
  },
  {
   "cell_type": "code",
   "execution_count": 16,
   "id": "english-cooling",
   "metadata": {},
   "outputs": [
    {
     "data": {
      "text/plain": [
       "Uttar Pradesh        0.111071\n",
       "Andhra Pradesh       0.105607\n",
       "Maharashtra          0.101071\n",
       "West Bengal          0.092607\n",
       "Bihar                0.082143\n",
       "Tamil Nadu           0.068786\n",
       "Madhya Pradesh       0.055679\n",
       "Karnataka            0.045679\n",
       "Gujarat              0.045107\n",
       "Rajasthan            0.037179\n",
       "Jharkhand            0.034643\n",
       "Haryana              0.030000\n",
       "Telangana            0.029821\n",
       "Assam                0.027250\n",
       "Kerala               0.020500\n",
       "Delhi                0.020143\n",
       "Punjab               0.017964\n",
       "Odisha               0.017500\n",
       "Chhattisgarh         0.015571\n",
       "Uttarakhand          0.007036\n",
       "Jammu and Kashmir    0.007000\n",
       "Puducherry           0.006179\n",
       "Mizoram              0.004107\n",
       "Manipur              0.003679\n",
       "Himachal Pradesh     0.003071\n",
       "Tripura              0.003000\n",
       "Uttar Pradesh[5]     0.002714\n",
       "Sikkim               0.002500\n",
       "Chandigarh           0.002393\n",
       "Name: state, dtype: float64"
      ]
     },
     "execution_count": 16,
     "metadata": {},
     "output_type": "execute_result"
    }
   ],
   "source": [
    "df_test['state'].value_counts()/len(df_test)"
   ]
  },
  {
   "cell_type": "code",
   "execution_count": null,
   "id": "aquatic-permission",
   "metadata": {},
   "outputs": [],
   "source": []
  },
  {
   "cell_type": "code",
   "execution_count": null,
   "id": "wrong-bennett",
   "metadata": {},
   "outputs": [],
   "source": []
  },
  {
   "cell_type": "code",
   "execution_count": null,
   "id": "controlling-short",
   "metadata": {},
   "outputs": [],
   "source": []
  },
  {
   "cell_type": "code",
   "execution_count": null,
   "id": "committed-interference",
   "metadata": {},
   "outputs": [],
   "source": []
  },
  {
   "cell_type": "code",
   "execution_count": null,
   "id": "buried-imperial",
   "metadata": {},
   "outputs": [],
   "source": []
  },
  {
   "cell_type": "code",
   "execution_count": null,
   "id": "blind-exclusive",
   "metadata": {},
   "outputs": [],
   "source": []
  },
  {
   "cell_type": "code",
   "execution_count": null,
   "id": "floral-fireplace",
   "metadata": {},
   "outputs": [],
   "source": []
  },
  {
   "cell_type": "code",
   "execution_count": null,
   "id": "committed-correction",
   "metadata": {},
   "outputs": [],
   "source": []
  },
  {
   "cell_type": "code",
   "execution_count": null,
   "id": "painful-sewing",
   "metadata": {},
   "outputs": [],
   "source": []
  },
  {
   "cell_type": "code",
   "execution_count": null,
   "id": "precious-mining",
   "metadata": {},
   "outputs": [],
   "source": []
  },
  {
   "cell_type": "code",
   "execution_count": null,
   "id": "framed-specialist",
   "metadata": {},
   "outputs": [],
   "source": []
  },
  {
   "cell_type": "code",
   "execution_count": null,
   "id": "random-thermal",
   "metadata": {},
   "outputs": [],
   "source": []
  }
 ],
 "metadata": {
  "kernelspec": {
   "display_name": "python3.9.2-bankd",
   "language": "python",
   "name": "python3.9.2-bankd"
  },
  "language_info": {
   "codemirror_mode": {
    "name": "ipython",
    "version": 3
   },
   "file_extension": ".py",
   "mimetype": "text/x-python",
   "name": "python",
   "nbconvert_exporter": "python",
   "pygments_lexer": "ipython3",
   "version": "3.9.2"
  }
 },
 "nbformat": 4,
 "nbformat_minor": 5
}

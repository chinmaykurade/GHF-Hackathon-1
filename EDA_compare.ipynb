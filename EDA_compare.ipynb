{
 "cells": [
  {
   "cell_type": "markdown",
   "id": "egyptian-prescription",
   "metadata": {},
   "source": [
    "### Importing Required Libraries"
   ]
  },
  {
   "cell_type": "code",
   "execution_count": 1,
   "id": "proprietary-commonwealth",
   "metadata": {},
   "outputs": [],
   "source": [
    "import pandas as pd\n",
    "import matplotlib.pyplot as plt\n",
    "import seaborn as sns\n",
    "sns.set()\n",
    "import numpy as np"
   ]
  },
  {
   "cell_type": "markdown",
   "id": "standard-climb",
   "metadata": {},
   "source": [
    "### Importing the data"
   ]
  },
  {
   "cell_type": "code",
   "execution_count": 2,
   "id": "blond-trainer",
   "metadata": {},
   "outputs": [],
   "source": [
    "train_path = \"D:/Code/Projects/Bank Default Hackathon/Training Data.csv\"\n",
    "test_path = \"D:/Code/Projects/Bank Default Hackathon/Test Data.csv\"\n",
    "df_train = pd.read_csv(train_path)\n",
    "df_test = pd.read_csv(test_path)\n",
    "df_train.rename(columns={'Id':'id'},inplace=True)"
   ]
  },
  {
   "cell_type": "markdown",
   "id": "functional-compromise",
   "metadata": {},
   "source": [
    "### Missing values"
   ]
  },
  {
   "cell_type": "code",
   "execution_count": 3,
   "id": "cordless-township",
   "metadata": {},
   "outputs": [],
   "source": [
    "def print_missing(dataset, print_percent=True):\n",
    "    missing = dataset.isnull().mean()\n",
    "    missing = missing[missing>0]\n",
    "    \n",
    "    if len(missing)>0:\n",
    "        missing.sort_values(inplace=True,ascending=False)\n",
    "        missing.plot.bar()\n",
    "        plt.ylabel(\"Fraction missing values\")\n",
    "        plt.title(\"Missing values\")\n",
    "        if print_percent:\n",
    "            missing_features = missing.index.tolist()\n",
    "            print(\"Percent missing values: \")\n",
    "            for feature in missing_features:\n",
    "                print(feature,'  \\t:' ,np.round(dataset[feature].isnull().mean(),4), '%')\n",
    "    else:\n",
    "        print(\"No missing values!\")"
   ]
  },
  {
   "cell_type": "code",
   "execution_count": 4,
   "id": "remarkable-circus",
   "metadata": {},
   "outputs": [
    {
     "name": "stdout",
     "output_type": "stream",
     "text": [
      "No missing values!\n"
     ]
    }
   ],
   "source": [
    "print_missing(df_train)"
   ]
  },
  {
   "cell_type": "code",
   "execution_count": 5,
   "id": "biological-judge",
   "metadata": {},
   "outputs": [
    {
     "name": "stdout",
     "output_type": "stream",
     "text": [
      "No missing values!\n"
     ]
    }
   ],
   "source": [
    "print_missing(df_test)"
   ]
  },
  {
   "cell_type": "markdown",
   "id": "desirable-season",
   "metadata": {},
   "source": [
    "### Check for Duplicates"
   ]
  },
  {
   "cell_type": "code",
   "execution_count": 7,
   "id": "later-rally",
   "metadata": {},
   "outputs": [
    {
     "name": "stdout",
     "output_type": "stream",
     "text": [
      "False\n",
      "False\n",
      "Empty DataFrame\n",
      "Columns: [id, income, age, experience, married, house_ownership, car_ownership, profession, city, state, current_job_years, current_house_years, risk_flag]\n",
      "Index: []\n",
      "Empty DataFrame\n",
      "Columns: [id, income, age, experience, married, house_ownership, car_ownership, profession, city, state, current_job_years, current_house_years]\n",
      "Index: []\n"
     ]
    }
   ],
   "source": [
    "dups_train = df_train.duplicated()\n",
    "dups_test = df_test.duplicated()\n",
    "# report if there are any duplicates\n",
    "print(dups_train.any())\n",
    "print(dups_test.any())\n",
    "\n",
    "# list all duplicate rows\n",
    "print(df_train[dups_train])\n",
    "print(df_test[dups_test])"
   ]
  },
  {
   "cell_type": "code",
   "execution_count": null,
   "id": "british-dover",
   "metadata": {},
   "outputs": [],
   "source": []
  },
  {
   "cell_type": "code",
   "execution_count": 6,
   "id": "french-partner",
   "metadata": {},
   "outputs": [
    {
     "name": "stdout",
     "output_type": "stream",
     "text": [
      "<class 'pandas.core.frame.DataFrame'>\n",
      "RangeIndex: 252000 entries, 0 to 251999\n",
      "Data columns (total 13 columns):\n",
      " #   Column               Non-Null Count   Dtype \n",
      "---  ------               --------------   ----- \n",
      " 0   id                   252000 non-null  int64 \n",
      " 1   income               252000 non-null  int64 \n",
      " 2   age                  252000 non-null  int64 \n",
      " 3   experience           252000 non-null  int64 \n",
      " 4   married              252000 non-null  object\n",
      " 5   house_ownership      252000 non-null  object\n",
      " 6   car_ownership        252000 non-null  object\n",
      " 7   profession           252000 non-null  object\n",
      " 8   city                 252000 non-null  object\n",
      " 9   state                252000 non-null  object\n",
      " 10  current_job_years    252000 non-null  int64 \n",
      " 11  current_house_years  252000 non-null  int64 \n",
      " 12  risk_flag            252000 non-null  int64 \n",
      "dtypes: int64(7), object(6)\n",
      "memory usage: 25.0+ MB\n"
     ]
    }
   ],
   "source": [
    "df_train.info()"
   ]
  },
  {
   "cell_type": "code",
   "execution_count": 7,
   "id": "acute-timing",
   "metadata": {},
   "outputs": [
    {
     "name": "stdout",
     "output_type": "stream",
     "text": [
      "<class 'pandas.core.frame.DataFrame'>\n",
      "RangeIndex: 28000 entries, 0 to 27999\n",
      "Data columns (total 12 columns):\n",
      " #   Column               Non-Null Count  Dtype \n",
      "---  ------               --------------  ----- \n",
      " 0   id                   28000 non-null  int64 \n",
      " 1   income               28000 non-null  int64 \n",
      " 2   age                  28000 non-null  int64 \n",
      " 3   experience           28000 non-null  int64 \n",
      " 4   married              28000 non-null  object\n",
      " 5   house_ownership      28000 non-null  object\n",
      " 6   car_ownership        28000 non-null  object\n",
      " 7   profession           28000 non-null  object\n",
      " 8   city                 28000 non-null  object\n",
      " 9   state                28000 non-null  object\n",
      " 10  current_job_years    28000 non-null  int64 \n",
      " 11  current_house_years  28000 non-null  int64 \n",
      "dtypes: int64(6), object(6)\n",
      "memory usage: 2.6+ MB\n"
     ]
    }
   ],
   "source": [
    "df_test.info()"
   ]
  },
  {
   "cell_type": "markdown",
   "id": "angry-concentrate",
   "metadata": {},
   "source": [
    "### Numerical, Year and Categorical features"
   ]
  },
  {
   "cell_type": "code",
   "execution_count": 8,
   "id": "raising-reflection",
   "metadata": {},
   "outputs": [],
   "source": [
    "def get_fnames_by_type(dataset):\n",
    "    # list of numerical variables\n",
    "    numerical_features = [feature for feature in dataset.columns if dataset[feature].dtypes != 'O']\n",
    "    print('Number of numerical variables: ', len(numerical_features))\n",
    "\n",
    "    year_features = [feature for feature in numerical_features if 'yr'\\\n",
    "                     in feature.lower() or 'year' in feature.lower()]\n",
    "    print(f\"Year features: {year_features}\")\n",
    "    \n",
    "    categorical_features = [feature for feature in dataset.columns if \\\n",
    "                           feature not in numerical_features]\n",
    "    print('Number of categorical variables: ', len(categorical_features))\n",
    "    \n",
    "    return numerical_features, year_features, categorical_features"
   ]
  },
  {
   "cell_type": "code",
   "execution_count": 9,
   "id": "broad-absence",
   "metadata": {
    "scrolled": true
   },
   "outputs": [
    {
     "name": "stdout",
     "output_type": "stream",
     "text": [
      "Number of numerical variables:  7\n",
      "Year features: ['current_job_years', 'current_house_years']\n",
      "Number of categorical variables:  6\n"
     ]
    }
   ],
   "source": [
    "numerical_features, year_features, categorical_features = \\\n",
    "get_fnames_by_type(df_train)"
   ]
  },
  {
   "cell_type": "markdown",
   "id": "brave-bracelet",
   "metadata": {},
   "source": [
    "## Categorical Features"
   ]
  },
  {
   "cell_type": "code",
   "execution_count": 10,
   "id": "skilled-episode",
   "metadata": {},
   "outputs": [
    {
     "name": "stdout",
     "output_type": "stream",
     "text": [
      "['married', 'house_ownership', 'car_ownership', 'profession', 'city', 'state']\n"
     ]
    }
   ],
   "source": [
    "print(categorical_features)"
   ]
  },
  {
   "cell_type": "markdown",
   "id": "enormous-jordan",
   "metadata": {},
   "source": [
    "## Get number of categories"
   ]
  },
  {
   "cell_type": "code",
   "execution_count": 11,
   "id": "historic-spider",
   "metadata": {},
   "outputs": [],
   "source": [
    "def get_number_categories(dataset, categorical_features):\n",
    "    print(\"Number of categories per categorical feature: \")\n",
    "    for feature in categorical_features:\n",
    "        print(f\"{feature:20}: {len(dataset[feature].unique())}\")"
   ]
  },
  {
   "cell_type": "code",
   "execution_count": 12,
   "id": "experienced-night",
   "metadata": {},
   "outputs": [
    {
     "name": "stdout",
     "output_type": "stream",
     "text": [
      "Number of categories per categorical feature: \n",
      "married             : 2\n",
      "house_ownership     : 3\n",
      "car_ownership       : 2\n",
      "profession          : 51\n",
      "city                : 317\n",
      "state               : 29\n"
     ]
    }
   ],
   "source": [
    "get_number_categories(df_train, categorical_features)"
   ]
  },
  {
   "cell_type": "code",
   "execution_count": 13,
   "id": "latin-rebate",
   "metadata": {},
   "outputs": [
    {
     "name": "stdout",
     "output_type": "stream",
     "text": [
      "Number of categories per categorical feature: \n",
      "married             : 2\n",
      "house_ownership     : 3\n",
      "car_ownership       : 2\n",
      "profession          : 51\n",
      "city                : 317\n",
      "state               : 29\n"
     ]
    }
   ],
   "source": [
    "get_number_categories(df_test, categorical_features)"
   ]
  },
  {
   "cell_type": "code",
   "execution_count": null,
   "id": "sized-selling",
   "metadata": {},
   "outputs": [],
   "source": []
  },
  {
   "cell_type": "code",
   "execution_count": null,
   "id": "orange-boston",
   "metadata": {},
   "outputs": [],
   "source": []
  },
  {
   "cell_type": "code",
   "execution_count": null,
   "id": "adopted-director",
   "metadata": {},
   "outputs": [],
   "source": []
  },
  {
   "cell_type": "markdown",
   "id": "determined-sunglasses",
   "metadata": {},
   "source": [
    "### Value count percentage"
   ]
  },
  {
   "cell_type": "code",
   "execution_count": 14,
   "id": "earned-major",
   "metadata": {},
   "outputs": [],
   "source": [
    "def value_count(dataset, categorical_features, target_feature):\n",
    "    for feature in categorical_features:\n",
    "        # Proceed if the unique classes are less than 20\n",
    "        if len(dataset[feature].unique())<20:\n",
    "            data=dataset.copy()\n",
    "            print(f\"Value count percentage for: {feature}\")\n",
    "            print(data[feature].value_counts()/len(data))\n",
    "            print()"
   ]
  },
  {
   "cell_type": "markdown",
   "id": "useful-winner",
   "metadata": {},
   "source": [
    "### Find out the relationship between categorical variable and dependent feature risk_flag"
   ]
  },
  {
   "cell_type": "code",
   "execution_count": 15,
   "id": "eligible-tactics",
   "metadata": {
    "scrolled": true
   },
   "outputs": [
    {
     "name": "stdout",
     "output_type": "stream",
     "text": [
      "Value count percentage for: married\n",
      "single     0.897905\n",
      "married    0.102095\n",
      "Name: married, dtype: float64\n",
      "\n",
      "Value count percentage for: house_ownership\n",
      "rented          0.920230\n",
      "owned           0.051262\n",
      "norent_noown    0.028508\n",
      "Name: house_ownership, dtype: float64\n",
      "\n",
      "Value count percentage for: car_ownership\n",
      "no     0.698413\n",
      "yes    0.301587\n",
      "Name: car_ownership, dtype: float64\n",
      "\n"
     ]
    }
   ],
   "source": [
    "value_count(df_train, categorical_features, 'risk_flag')"
   ]
  },
  {
   "cell_type": "code",
   "execution_count": 16,
   "id": "visible-singles",
   "metadata": {},
   "outputs": [
    {
     "name": "stdout",
     "output_type": "stream",
     "text": [
      "Value count percentage for: married\n",
      "single     0.898929\n",
      "married    0.101071\n",
      "Name: married, dtype: float64\n",
      "\n",
      "Value count percentage for: house_ownership\n",
      "rented          0.921607\n",
      "owned           0.051071\n",
      "norent_noown    0.027321\n",
      "Name: house_ownership, dtype: float64\n",
      "\n",
      "Value count percentage for: car_ownership\n",
      "no     0.700893\n",
      "yes    0.299107\n",
      "Name: car_ownership, dtype: float64\n",
      "\n"
     ]
    }
   ],
   "source": [
    "value_count(df_test, categorical_features, 'risk_flag')"
   ]
  },
  {
   "cell_type": "code",
   "execution_count": 26,
   "id": "jewish-female",
   "metadata": {},
   "outputs": [],
   "source": [
    "discrete_features = ['experience', 'risk_flag','current_job_years', 'current_house_years']\n",
    "\n",
    "continuous_features = ['id', 'income', 'age', ]"
   ]
  },
  {
   "cell_type": "code",
   "execution_count": 27,
   "id": "english-cooling",
   "metadata": {},
   "outputs": [],
   "source": [
    "def discrete_class_counts(dataset, discrete_features):\n",
    "    df = dataset.copy()\n",
    "    all_features = dataset.columns.to_list()\n",
    "    for feature in discrete_features:\n",
    "        class_counts = df.groupby(feature)[feature].count()\n",
    "        class_counts.plot.bar()\n",
    "        plt.show()"
   ]
  },
  {
   "cell_type": "code",
   "execution_count": 28,
   "id": "aquatic-permission",
   "metadata": {},
   "outputs": [
    {
     "data": {
      "image/png": "[encoded data removed]",
      "text/plain": [
       "<Figure size 432x288 with 1 Axes>"
      ]
     },
     "metadata": {},
     "output_type": "display_data"
    },
    {
     "data": {
      "image/png": "[encoded data removed]",
      "text/plain": [
       "<Figure size 432x288 with 1 Axes>"
      ]
     },
     "metadata": {},
     "output_type": "display_data"
    },
    {
     "data": {
      "image/png": "[encoded data removed]",
      "text/plain": [
       "<Figure size 432x288 with 1 Axes>"
      ]
     },
     "metadata": {},
     "output_type": "display_data"
    },
    {
     "data": {
      "image/png": "[encoded data removed]",
      "text/plain": [
       "<Figure size 432x288 with 1 Axes>"
      ]
     },
     "metadata": {},
     "output_type": "display_data"
    }
   ],
   "source": [
    "discrete_class_counts(df_train, discrete_features)"
   ]
  },
  {
   "cell_type": "code",
   "execution_count": 34,
   "id": "wrong-bennett",
   "metadata": {},
   "outputs": [
    {
     "data": {
      "image/png": "[encoded data removed]",
      "text/plain": [
       "<Figure size 432x288 with 1 Axes>"
      ]
     },
     "metadata": {},
     "output_type": "display_data"
    },
    {
     "data": {
      "image/png": "[encoded data removed]",
      "text/plain": [
       "<Figure size 432x288 with 1 Axes>"
      ]
     },
     "metadata": {},
     "output_type": "display_data"
    },
    {
     "data": {
      "image/png": "[encoded data removed]",
      "text/plain": [
       "<Figure size 432x288 with 1 Axes>"
      ]
     },
     "metadata": {},
     "output_type": "display_data"
    }
   ],
   "source": [
    "df_copy = discrete_features.copy()\n",
    "df_copy.remove('risk_flag')\n",
    "discrete_class_counts(df_test, df_copy)"
   ]
  },
  {
   "cell_type": "code",
   "execution_count": 35,
   "id": "controlling-short",
   "metadata": {},
   "outputs": [
    {
     "data": {
      "text/plain": [
       "['experience', 'risk_flag', 'current_job_years', 'current_house_years']"
      ]
     },
     "execution_count": 35,
     "metadata": {},
     "output_type": "execute_result"
    }
   ],
   "source": [
    "discrete_features.copy()"
   ]
  },
  {
   "cell_type": "code",
   "execution_count": 36,
   "id": "buried-imperial",
   "metadata": {},
   "outputs": [],
   "source": [
    "def hist_continuous(dataset, continuous_features):\n",
    "    for feature in continuous_features:\n",
    "        data=dataset.copy()\n",
    "        data[feature].hist(bins='auto')\n",
    "        plt.xlabel(feature)\n",
    "        plt.ylabel(\"Count\")\n",
    "        plt.title(feature)\n",
    "        print(\"Skewness of \",feature,\" = \",dataset[continuous_features].skew()[feature])\n",
    "        plt.show()"
   ]
  },
  {
   "cell_type": "code",
   "execution_count": 37,
   "id": "blind-exclusive",
   "metadata": {},
   "outputs": [
    {
     "name": "stdout",
     "output_type": "stream",
     "text": [
      "Skewness of  id  =  0.0\n"
     ]
    },
    {
     "data": {
      "image/png": "[encoded data removed]",
      "text/plain": [
       "<Figure size 432x288 with 1 Axes>"
      ]
     },
     "metadata": {},
     "output_type": "display_data"
    },
    {
     "name": "stdout",
     "output_type": "stream",
     "text": [
      "Skewness of  income  =  0.005957563397012054\n"
     ]
    },
    {
     "data": {
      "image/png": "[encoded data removed]",
      "text/plain": [
       "<Figure size 432x288 with 1 Axes>"
      ]
     },
     "metadata": {},
     "output_type": "display_data"
    },
    {
     "name": "stdout",
     "output_type": "stream",
     "text": [
      "Skewness of  age  =  -0.005314976215515299\n"
     ]
    },
    {
     "data": {
      "image/png": "[encoded data removed]",
      "text/plain": [
       "<Figure size 432x288 with 1 Axes>"
      ]
     },
     "metadata": {},
     "output_type": "display_data"
    }
   ],
   "source": [
    "hist_continuous(df_train, continuous_features)"
   ]
  },
  {
   "cell_type": "code",
   "execution_count": 38,
   "id": "floral-fireplace",
   "metadata": {},
   "outputs": [
    {
     "name": "stdout",
     "output_type": "stream",
     "text": [
      "Skewness of  id  =  0.0\n"
     ]
    },
    {
     "data": {
      "image/png": "[encoded data removed]",
      "text/plain": [
       "<Figure size 432x288 with 1 Axes>"
      ]
     },
     "metadata": {},
     "output_type": "display_data"
    },
    {
     "name": "stdout",
     "output_type": "stream",
     "text": [
      "Skewness of  income  =  -0.007805081586048975\n"
     ]
    },
    {
     "data": {
      "image/png": "[encoded data removed]",
      "text/plain": [
       "<Figure size 432x288 with 1 Axes>"
      ]
     },
     "metadata": {},
     "output_type": "display_data"
    },
    {
     "name": "stdout",
     "output_type": "stream",
     "text": [
      "Skewness of  age  =  -0.009766141239145282\n"
     ]
    },
    {
     "data": {
      "image/png": "[encoded data removed]",
      "text/plain": [
       "<Figure size 432x288 with 1 Axes>"
      ]
     },
     "metadata": {},
     "output_type": "display_data"
    }
   ],
   "source": [
    "hist_continuous(df_test, continuous_features)"
   ]
  },
  {
   "cell_type": "code",
   "execution_count": null,
   "id": "committed-correction",
   "metadata": {},
   "outputs": [],
   "source": []
  },
  {
   "cell_type": "code",
   "execution_count": null,
   "id": "painful-sewing",
   "metadata": {},
   "outputs": [],
   "source": []
  },
  {
   "cell_type": "code",
   "execution_count": null,
   "id": "precious-mining",
   "metadata": {},
   "outputs": [],
   "source": []
  },
  {
   "cell_type": "code",
   "execution_count": null,
   "id": "framed-specialist",
   "metadata": {},
   "outputs": [],
   "source": []
  },
  {
   "cell_type": "code",
   "execution_count": null,
   "id": "random-thermal",
   "metadata": {},
   "outputs": [],
   "source": []
  }
 ],
 "metadata": {
  "kernelspec": {
   "display_name": "python3.9.2-bankd",
   "language": "python",
   "name": "python3.9.2-bankd"
  },
  "language_info": {
   "codemirror_mode": {
    "name": "ipython",
    "version": 3
   },
   "file_extension": ".py",
   "mimetype": "text/x-python",
   "name": "python",
   "nbconvert_exporter": "python",
   "pygments_lexer": "ipython3",
   "version": "3.9.2"
  }
 },
 "nbformat": 4,
 "nbformat_minor": 5
}
